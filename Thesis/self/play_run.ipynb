{
 "cells": [
  {
   "cell_type": "markdown",
   "metadata": {},
   "source": [
    "## Play!\n",
    "Play a level of your choice, or let A* do it for you.\n",
    "\n",
    "Controls:\n",
    "- Walk right: >\n",
    "- Walk left: <\n",
    "- Duck: V (arrow down)\n",
    "- Jump: s\n",
    "- Power/sprint: a"
   ]
  },
  {
   "cell_type": "code",
   "execution_count": 1,
   "metadata": {},
   "outputs": [
    {
     "name": "stderr",
     "output_type": "stream",
     "text": [
      "2024-06-18 22:48:06.553670: I tensorflow/core/platform/cpu_feature_guard.cc:193] This TensorFlow binary is optimized with oneAPI Deep Neural Network Library (oneDNN) to use the following CPU instructions in performance-critical operations:  AVX2 FMA\n",
      "To enable them in other operations, rebuild TensorFlow with the appropriate compiler flags.\n"
     ]
    }
   ],
   "source": [
    "from mario_gpt.simulator import Simulator"
   ]
  },
  {
   "cell_type": "markdown",
   "metadata": {},
   "source": [
    "Set 'level_path' to any particular level."
   ]
  },
  {
   "cell_type": "code",
   "execution_count": 13,
   "metadata": {},
   "outputs": [],
   "source": [
    "level_path = '/Users/uni/Documents/Thesis/self/experiment_levels/experiment_levels_2/generated_files_(N-N-N)/file_5.txt'\n",
    "\n",
    "with open(level_path) as f:\n",
    "    lvl = f.read()\n",
    "    lvl = lvl.split('\\n')\n",
    "\n",
    "simulator = Simulator(level=lvl)"
   ]
  },
  {
   "cell_type": "markdown",
   "metadata": {},
   "source": [
    "### Play yourself."
   ]
  },
  {
   "cell_type": "code",
   "execution_count": 14,
   "metadata": {},
   "outputs": [
    {
     "name": "stdout",
     "output_type": "stream",
     "text": [
      "Playing level interactively -- /var/folders/mx/18yhkkp57f9374hs9zhybf3h0000gp/T/tmpkdb5tu70.txt!\n"
     ]
    },
    {
     "name": "stderr",
     "output_type": "stream",
     "text": [
      "1   HIToolbox                           0x00007ff824fc0726 _ZN15MenuBarInstance22EnsureAutoShowObserverEv + 102\n",
      "2   HIToolbox                           0x00007ff824fc02b8 _ZN15MenuBarInstance14EnableAutoShowEv + 52\n",
      "3   HIToolbox                           0x00007ff824f64908 SetMenuBarObscured + 408\n",
      "4   HIToolbox                           0x00007ff824f644ca _ZN13HIApplication15HandleActivatedEP14OpaqueEventRefhP15OpaqueWindowPtrh + 164\n",
      "5   HIToolbox                           0x00007ff824f5e996 _ZN13HIApplication13EventObserverEjP14OpaqueEventRefPv + 252\n",
      "6   HIToolbox                           0x00007ff824f26bd2 _NotifyEventLoopObservers + 153\n",
      "7   HIToolbox                           0x00007ff824f5e3e6 AcquireEventFromQueue + 494\n",
      "8   HIToolbox                           0x00007ff824f4d3ec ReceiveNextEventCommon + 285\n",
      "9   HIToolbox                           0x00007ff824f4d2b3 _BlockUntilNextEventMatchingListInModeWithFilter + 70\n",
      "10  AppKit                              0x00007ff81e754f33 _DPSNextEvent + 909\n",
      "11  AppKit                              0x00007ff81e753db4 -[NSApplication(NSEvent) _nextEventMatchingEventMask:untilDate:inMode:dequeue:] + 1219\n",
      "12  libosxapp.dylib                     0x00000001050459f4 -[NSApplicationAWT nextEventMatchingMask:untilDate:inMode:dequeue:] + 121\n",
      "13  AppKit                              0x00007ff81e7463f7 -[NSApplication run] + 586\n",
      "14  libosxapp.dylib                     0x000000010504583b +[NSApplicationAWT runAWTLoopWithApp:] + 222\n",
      "15  libawt_lwawt.dylib                  0x0000000105282371 +[AWTStarter starter:headless:] + 834\n",
      "16  JavaNativeFoundation                0x00007ffa361608ef +[JNFRunLoop _performCopiedBlock:] + 15\n",
      "17  Foundation                          0x00007ff81c483420 __NSThreadPerformPerform + 177\n",
      "18  CoreFoundation                      0x00007ff81b60ab98 __CFRUNLOOP_IS_CALLING_OUT_TO_A_SOURCE0_PERFORM_FUNCTION__ + 17\n",
      "19  CoreFoundation                      0x00007ff81b60ab47 __CFRunLoopDoSource0 + 157\n",
      "20  CoreFoundation                      0x00007ff81b60a921 __CFRunLoopDoSources0 + 212\n",
      "21  CoreFoundation                      0x00007ff81b60959b __CFRunLoopRun + 929\n",
      "22  CoreFoundation                      0x00007ff81b608b80 CFRunLoopRunSpecific + 560\n",
      "23  java                                0x000000010005c3a5 CreateExecutionEnvironment + 400\n",
      "24  java                                0x0000000100058523 JLI_Launch + 1311\n",
      "25  java                                0x00000001000574cd main + 365\n",
      "26  dyld                                0x00007ff81b1fc310 start + 2432\n",
      "1   HIToolbox                           0x00007ff824f4d0c2 _ZN15MenuBarInstance22RemoveAutoShowObserverEv + 30\n",
      "2   HIToolbox                           0x00007ff824f89638 _ZL17BroadcastInternaljPvh + 167\n",
      "3   SkyLight                            0x00007ff82022f74d _ZN12_GLOBAL__N_123notify_datagram_handlerEj15CGSDatagramTypePvmS1_ + 1030\n",
      "4   SkyLight                            0x00007ff82054204a _ZN21CGSDatagramReadStream26dispatchMainQueueDatagramsEv + 202\n",
      "5   SkyLight                            0x00007ff820541f71 ___ZN21CGSDatagramReadStream15mainQueueWakeupEv_block_invoke + 18\n",
      "6   libdispatch.dylib                   0x00007ff81b3ae7fb _dispatch_call_block_and_release + 12\n",
      "7   libdispatch.dylib                   0x00007ff81b3afa44 _dispatch_client_callout + 8\n",
      "8   libdispatch.dylib                   0x00007ff81b3bc7b9 _dispatch_main_queue_drain + 952\n",
      "9   libdispatch.dylib                   0x00007ff81b3bc3f3 _dispatch_main_queue_callback_4CF + 31\n",
      "10  CoreFoundation                      0x00007ff81b649610 __CFRUNLOOP_IS_SERVICING_THE_MAIN_DISPATCH_QUEUE__ + 9\n",
      "11  CoreFoundation                      0x00007ff81b609b90 __CFRunLoopRun + 2454\n",
      "12  CoreFoundation                      0x00007ff81b608b80 CFRunLoopRunSpecific + 560\n",
      "13  HIToolbox                           0x00007ff824f4d766 RunCurrentEventLoopInMode + 292\n",
      "14  HIToolbox                           0x00007ff824f4d576 ReceiveNextEventCommon + 679\n",
      "15  HIToolbox                           0x00007ff824f4d2b3 _BlockUntilNextEventMatchingListInModeWithFilter + 70\n",
      "16  AppKit                              0x00007ff81e754f33 _DPSNextEvent + 909\n",
      "17  AppKit                              0x00007ff81e753db4 -[NSApplication(NSEvent) _nextEventMatchingEventMask:untilDate:inMode:dequeue:] + 1219\n",
      "18  libosxapp.dylib                     0x00000001050459f4 -[NSApplicationAWT nextEventMatchingMask:untilDate:inMode:dequeue:] + 121\n",
      "19  AppKit                              0x00007ff81e7463f7 -[NSApplication run] + 586\n",
      "20  libosxapp.dylib                     0x000000010504583b +[NSApplicationAWT runAWTLoopWithApp:] + 222\n",
      "21  libawt_lwawt.dylib                  0x0000000105282371 +[AWTStarter starter:headless:] + 834\n",
      "22  JavaNativeFoundation                0x00007ffa361608ef +[JNFRunLoop _performCopiedBlock:] + 15\n",
      "23  Foundation                          0x00007ff81c483420 __NSThreadPerformPerform + 177\n",
      "24  CoreFoundation                      0x00007ff81b60ab98 __CFRUNLOOP_IS_CALLING_OUT_TO_A_SOURCE0_PERFORM_FUNCTION__ + 17\n",
      "25  CoreFoundation                      0x00007ff81b60ab47 __CFRunLoopDoSource0 + 157\n",
      "26  CoreFoundation                      0x00007ff81b60a921 __CFRunLoopDoSources0 + 212\n",
      "27  CoreFoundation                      0x00007ff81b60959b __CFRunLoopRun + 929\n",
      "28  CoreFoundation                      0x00007ff81b608b80 CFRunLoopRunSpecific + 560\n",
      "29  java                                0x000000010005c3a5 CreateExecutionEnvironment + 400\n",
      "30  java                                0x0000000100058523 JLI_Launch + 1311\n",
      "31  java                                0x00000001000574cd main + 365\n",
      "32  dyld                                0x00007ff81b1fc310 start + 2432\n"
     ]
    }
   ],
   "source": [
    "simulator.interactive()"
   ]
  },
  {
   "cell_type": "markdown",
   "metadata": {},
   "source": [
    "### Let an A* agent play the level."
   ]
  },
  {
   "cell_type": "code",
   "execution_count": 15,
   "metadata": {},
   "outputs": [
    {
     "name": "stdout",
     "output_type": "stream",
     "text": [
      "Running Astar agent on level! -- /var/folders/mx/18yhkkp57f9374hs9zhybf3h0000gp/T/tmp_6uca90_.txt\n"
     ]
    },
    {
     "name": "stderr",
     "output_type": "stream",
     "text": [
      "1   HIToolbox                           0x00007ff824fc0726 _ZN15MenuBarInstance22EnsureAutoShowObserverEv + 102\n",
      "2   HIToolbox                           0x00007ff824fc02b8 _ZN15MenuBarInstance14EnableAutoShowEv + 52\n",
      "3   HIToolbox                           0x00007ff824f64908 SetMenuBarObscured + 408\n",
      "4   HIToolbox                           0x00007ff824f644ca _ZN13HIApplication15HandleActivatedEP14OpaqueEventRefhP15OpaqueWindowPtrh + 164\n",
      "5   HIToolbox                           0x00007ff824f5e996 _ZN13HIApplication13EventObserverEjP14OpaqueEventRefPv + 252\n",
      "6   HIToolbox                           0x00007ff824f26bd2 _NotifyEventLoopObservers + 153\n",
      "7   HIToolbox                           0x00007ff824f5e3e6 AcquireEventFromQueue + 494\n",
      "8   HIToolbox                           0x00007ff824f4d3ec ReceiveNextEventCommon + 285\n",
      "9   HIToolbox                           0x00007ff824f4d2b3 _BlockUntilNextEventMatchingListInModeWithFilter + 70\n",
      "10  AppKit                              0x00007ff81e754f33 _DPSNextEvent + 909\n",
      "11  AppKit                              0x00007ff81e753db4 -[NSApplication(NSEvent) _nextEventMatchingEventMask:untilDate:inMode:dequeue:] + 1219\n",
      "12  libosxapp.dylib                     0x0000000104d1f9f4 -[NSApplicationAWT nextEventMatchingMask:untilDate:inMode:dequeue:] + 121\n",
      "13  AppKit                              0x00007ff81e7463f7 -[NSApplication run] + 586\n",
      "14  libosxapp.dylib                     0x0000000104d1f83b +[NSApplicationAWT runAWTLoopWithApp:] + 222\n",
      "15  libawt_lwawt.dylib                  0x0000000104f5c371 +[AWTStarter starter:headless:] + 834\n",
      "16  JavaNativeFoundation                0x00007ffa361608ef +[JNFRunLoop _performCopiedBlock:] + 15\n",
      "17  Foundation                          0x00007ff81c483420 __NSThreadPerformPerform + 177\n",
      "18  CoreFoundation                      0x00007ff81b60ab98 __CFRUNLOOP_IS_CALLING_OUT_TO_A_SOURCE0_PERFORM_FUNCTION__ + 17\n",
      "19  CoreFoundation                      0x00007ff81b60ab47 __CFRunLoopDoSource0 + 157\n",
      "20  CoreFoundation                      0x00007ff81b60a921 __CFRunLoopDoSources0 + 212\n",
      "21  CoreFoundation                      0x00007ff81b60959b __CFRunLoopRun + 929\n",
      "22  CoreFoundation                      0x00007ff81b608b80 CFRunLoopRunSpecific + 560\n",
      "23  java                                0x00000001049383a5 CreateExecutionEnvironment + 400\n",
      "24  java                                0x0000000104934523 JLI_Launch + 1311\n",
      "25  java                                0x00000001049334cd main + 365\n",
      "26  dyld                                0x00007ff81b1fc310 start + 2432\n",
      "1   HIToolbox                           0x00007ff824f4d0c2 _ZN15MenuBarInstance22RemoveAutoShowObserverEv + 30\n",
      "2   HIToolbox                           0x00007ff824f89638 _ZL17BroadcastInternaljPvh + 167\n",
      "3   SkyLight                            0x00007ff82022f74d _ZN12_GLOBAL__N_123notify_datagram_handlerEj15CGSDatagramTypePvmS1_ + 1030\n",
      "4   SkyLight                            0x00007ff82054204a _ZN21CGSDatagramReadStream26dispatchMainQueueDatagramsEv + 202\n",
      "5   SkyLight                            0x00007ff820541f71 ___ZN21CGSDatagramReadStream15mainQueueWakeupEv_block_invoke + 18\n",
      "6   libdispatch.dylib                   0x00007ff81b3ae7fb _dispatch_call_block_and_release + 12\n",
      "7   libdispatch.dylib                   0x00007ff81b3afa44 _dispatch_client_callout + 8\n",
      "8   libdispatch.dylib                   0x00007ff81b3bc7b9 _dispatch_main_queue_drain + 952\n",
      "9   libdispatch.dylib                   0x00007ff81b3bc3f3 _dispatch_main_queue_callback_4CF + 31\n",
      "10  CoreFoundation                      0x00007ff81b649610 __CFRUNLOOP_IS_SERVICING_THE_MAIN_DISPATCH_QUEUE__ + 9\n",
      "11  CoreFoundation                      0x00007ff81b609b90 __CFRunLoopRun + 2454\n",
      "12  CoreFoundation                      0x00007ff81b608b80 CFRunLoopRunSpecific + 560\n",
      "13  HIToolbox                           0x00007ff824f4d766 RunCurrentEventLoopInMode + 292\n",
      "14  HIToolbox                           0x00007ff824f4d576 ReceiveNextEventCommon + 679\n",
      "15  HIToolbox                           0x00007ff824f4d2b3 _BlockUntilNextEventMatchingListInModeWithFilter + 70\n",
      "16  AppKit                              0x00007ff81e754f33 _DPSNextEvent + 909\n",
      "17  AppKit                              0x00007ff81e753db4 -[NSApplication(NSEvent) _nextEventMatchingEventMask:untilDate:inMode:dequeue:] + 1219\n",
      "18  libosxapp.dylib                     0x0000000104d1f9f4 -[NSApplicationAWT nextEventMatchingMask:untilDate:inMode:dequeue:] + 121\n",
      "19  AppKit                              0x00007ff81e7463f7 -[NSApplication run] + 586\n",
      "20  libosxapp.dylib                     0x0000000104d1f83b +[NSApplicationAWT runAWTLoopWithApp:] + 222\n",
      "21  libawt_lwawt.dylib                  0x0000000104f5c371 +[AWTStarter starter:headless:] + 834\n",
      "22  JavaNativeFoundation                0x00007ffa361608ef +[JNFRunLoop _performCopiedBlock:] + 15\n",
      "23  Foundation                          0x00007ff81c483420 __NSThreadPerformPerform + 177\n",
      "24  CoreFoundation                      0x00007ff81b60ab98 __CFRUNLOOP_IS_CALLING_OUT_TO_A_SOURCE0_PERFORM_FUNCTION__ + 17\n",
      "25  CoreFoundation                      0x00007ff81b60ab47 __CFRunLoopDoSource0 + 157\n",
      "26  CoreFoundation                      0x00007ff81b60a921 __CFRunLoopDoSources0 + 212\n",
      "27  CoreFoundation                      0x00007ff81b60959b __CFRunLoopRun + 929\n",
      "28  CoreFoundation                      0x00007ff81b608b80 CFRunLoopRunSpecific + 560\n",
      "29  java                                0x00000001049383a5 CreateExecutionEnvironment + 400\n",
      "30  java                                0x0000000104934523 JLI_Launch + 1311\n",
      "31  java                                0x00000001049334cd main + 365\n",
      "32  dyld                                0x00007ff81b1fc310 start + 2432\n"
     ]
    }
   ],
   "source": [
    "simulator.astar(render=True)"
   ]
  }
 ],
 "metadata": {
  "kernelspec": {
   "display_name": "Python 3",
   "language": "python",
   "name": "python3"
  },
  "language_info": {
   "codemirror_mode": {
    "name": "ipython",
    "version": 3
   },
   "file_extension": ".py",
   "mimetype": "text/x-python",
   "name": "python",
   "nbconvert_exporter": "python",
   "pygments_lexer": "ipython3",
   "version": "3.9.7"
  }
 },
 "nbformat": 4,
 "nbformat_minor": 2
}
